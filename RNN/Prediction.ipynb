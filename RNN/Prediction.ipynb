{
  "nbformat": 4,
  "nbformat_minor": 0,
  "metadata": {
    "colab": {
      "provenance": [],
      "gpuType": "T4"
    },
    "kernelspec": {
      "name": "python3",
      "display_name": "Python 3"
    },
    "language_info": {
      "name": "python"
    },
    "accelerator": "GPU"
  },
  "cells": [
    {
      "cell_type": "markdown",
      "source": [
        "### Import Libraries and Load the Model\n",
        "\n",
        "This cell imports the necessary libraries, including `numpy` for numerical operations and `tensorflow` for building and loading the neural network model. It also loads the IMDB dataset word index and the pre-trained Simple RNN model."
      ],
      "metadata": {
        "id": "zZN2Et3G_2D0"
      }
    },
    {
      "cell_type": "code",
      "execution_count": 1,
      "metadata": {
        "id": "SESvnYD391Ro"
      },
      "outputs": [],
      "source": [
        "# Step 1: Import Libraries and Load the Model\n",
        "import numpy as np\n",
        "import tensorflow as tf\n",
        "from tensorflow.keras.datasets import imdb\n",
        "from tensorflow.keras.preprocessing import sequence\n",
        "from tensorflow.keras.models import load_model"
      ]
    },
    {
      "cell_type": "markdown",
      "source": [
        "### Load IMDB Word Index\n",
        "\n",
        "This cell loads the word index mapping from the IMDB dataset. The `word_index` dictionary maps words to integers, which is necessary for converting text reviews into a numerical format that the model can process. A `reverse_word_index` is also created to convert integer indices back to words for decoding reviews."
      ],
      "metadata": {
        "id": "pJfyG52a_66z"
      }
    },
    {
      "cell_type": "code",
      "source": [
        "# Load the IMDB dataset word index\n",
        "word_index = imdb.get_word_index()\n",
        "reverse_word_index = {value: key for key, value in word_index.items()}"
      ],
      "metadata": {
        "colab": {
          "base_uri": "https://localhost:8080/"
        },
        "id": "2awKDBbA-Cjk",
        "outputId": "f72f738e-ca6b-4f0c-d584-091d515f6805"
      },
      "execution_count": 2,
      "outputs": [
        {
          "output_type": "stream",
          "name": "stdout",
          "text": [
            "Downloading data from https://storage.googleapis.com/tensorflow/tf-keras-datasets/imdb_word_index.json\n",
            "\u001b[1m1641221/1641221\u001b[0m \u001b[32m━━━━━━━━━━━━━━━━━━━━\u001b[0m\u001b[37m\u001b[0m \u001b[1m0s\u001b[0m 0us/step\n"
          ]
        }
      ]
    },
    {
      "cell_type": "code",
      "source": [
        "# Load the pre-trained model with ReLU activation\n",
        "model = load_model('simple_rnn_imdb.h5')\n",
        "model.summary()"
      ],
      "metadata": {
        "colab": {
          "base_uri": "https://localhost:8080/",
          "height": 279
        },
        "id": "H-01nyi5-G90",
        "outputId": "2bda663c-aa4a-42e4-b747-b0d3b8c30947"
      },
      "execution_count": 3,
      "outputs": [
        {
          "output_type": "stream",
          "name": "stderr",
          "text": [
            "WARNING:absl:Compiled the loaded model, but the compiled metrics have yet to be built. `model.compile_metrics` will be empty until you train or evaluate the model.\n"
          ]
        },
        {
          "output_type": "display_data",
          "data": {
            "text/plain": [
              "\u001b[1mModel: \"sequential\"\u001b[0m\n"
            ],
            "text/html": [
              "<pre style=\"white-space:pre;overflow-x:auto;line-height:normal;font-family:Menlo,'DejaVu Sans Mono',consolas,'Courier New',monospace\"><span style=\"font-weight: bold\">Model: \"sequential\"</span>\n",
              "</pre>\n"
            ]
          },
          "metadata": {}
        },
        {
          "output_type": "display_data",
          "data": {
            "text/plain": [
              "┏━━━━━━━━━━━━━━━━━━━━━━━━━━━━━━━━━┳━━━━━━━━━━━━━━━━━━━━━━━━┳━━━━━━━━━━━━━━━┓\n",
              "┃\u001b[1m \u001b[0m\u001b[1mLayer (type)                   \u001b[0m\u001b[1m \u001b[0m┃\u001b[1m \u001b[0m\u001b[1mOutput Shape          \u001b[0m\u001b[1m \u001b[0m┃\u001b[1m \u001b[0m\u001b[1m      Param #\u001b[0m\u001b[1m \u001b[0m┃\n",
              "┡━━━━━━━━━━━━━━━━━━━━━━━━━━━━━━━━━╇━━━━━━━━━━━━━━━━━━━━━━━━╇━━━━━━━━━━━━━━━┩\n",
              "│ embedding (\u001b[38;5;33mEmbedding\u001b[0m)           │ (\u001b[38;5;34m32\u001b[0m, \u001b[38;5;34m500\u001b[0m, \u001b[38;5;34m128\u001b[0m)         │     \u001b[38;5;34m1,280,000\u001b[0m │\n",
              "├─────────────────────────────────┼────────────────────────┼───────────────┤\n",
              "│ simple_rnn (\u001b[38;5;33mSimpleRNN\u001b[0m)          │ (\u001b[38;5;34m32\u001b[0m, \u001b[38;5;34m128\u001b[0m)              │        \u001b[38;5;34m32,896\u001b[0m │\n",
              "├─────────────────────────────────┼────────────────────────┼───────────────┤\n",
              "│ dense (\u001b[38;5;33mDense\u001b[0m)                   │ (\u001b[38;5;34m32\u001b[0m, \u001b[38;5;34m1\u001b[0m)                │           \u001b[38;5;34m129\u001b[0m │\n",
              "└─────────────────────────────────┴────────────────────────┴───────────────┘\n"
            ],
            "text/html": [
              "<pre style=\"white-space:pre;overflow-x:auto;line-height:normal;font-family:Menlo,'DejaVu Sans Mono',consolas,'Courier New',monospace\">┏━━━━━━━━━━━━━━━━━━━━━━━━━━━━━━━━━┳━━━━━━━━━━━━━━━━━━━━━━━━┳━━━━━━━━━━━━━━━┓\n",
              "┃<span style=\"font-weight: bold\"> Layer (type)                    </span>┃<span style=\"font-weight: bold\"> Output Shape           </span>┃<span style=\"font-weight: bold\">       Param # </span>┃\n",
              "┡━━━━━━━━━━━━━━━━━━━━━━━━━━━━━━━━━╇━━━━━━━━━━━━━━━━━━━━━━━━╇━━━━━━━━━━━━━━━┩\n",
              "│ embedding (<span style=\"color: #0087ff; text-decoration-color: #0087ff\">Embedding</span>)           │ (<span style=\"color: #00af00; text-decoration-color: #00af00\">32</span>, <span style=\"color: #00af00; text-decoration-color: #00af00\">500</span>, <span style=\"color: #00af00; text-decoration-color: #00af00\">128</span>)         │     <span style=\"color: #00af00; text-decoration-color: #00af00\">1,280,000</span> │\n",
              "├─────────────────────────────────┼────────────────────────┼───────────────┤\n",
              "│ simple_rnn (<span style=\"color: #0087ff; text-decoration-color: #0087ff\">SimpleRNN</span>)          │ (<span style=\"color: #00af00; text-decoration-color: #00af00\">32</span>, <span style=\"color: #00af00; text-decoration-color: #00af00\">128</span>)              │        <span style=\"color: #00af00; text-decoration-color: #00af00\">32,896</span> │\n",
              "├─────────────────────────────────┼────────────────────────┼───────────────┤\n",
              "│ dense (<span style=\"color: #0087ff; text-decoration-color: #0087ff\">Dense</span>)                   │ (<span style=\"color: #00af00; text-decoration-color: #00af00\">32</span>, <span style=\"color: #00af00; text-decoration-color: #00af00\">1</span>)                │           <span style=\"color: #00af00; text-decoration-color: #00af00\">129</span> │\n",
              "└─────────────────────────────────┴────────────────────────┴───────────────┘\n",
              "</pre>\n"
            ]
          },
          "metadata": {}
        },
        {
          "output_type": "display_data",
          "data": {
            "text/plain": [
              "\u001b[1m Total params: \u001b[0m\u001b[38;5;34m1,313,027\u001b[0m (5.01 MB)\n"
            ],
            "text/html": [
              "<pre style=\"white-space:pre;overflow-x:auto;line-height:normal;font-family:Menlo,'DejaVu Sans Mono',consolas,'Courier New',monospace\"><span style=\"font-weight: bold\"> Total params: </span><span style=\"color: #00af00; text-decoration-color: #00af00\">1,313,027</span> (5.01 MB)\n",
              "</pre>\n"
            ]
          },
          "metadata": {}
        },
        {
          "output_type": "display_data",
          "data": {
            "text/plain": [
              "\u001b[1m Trainable params: \u001b[0m\u001b[38;5;34m1,313,025\u001b[0m (5.01 MB)\n"
            ],
            "text/html": [
              "<pre style=\"white-space:pre;overflow-x:auto;line-height:normal;font-family:Menlo,'DejaVu Sans Mono',consolas,'Courier New',monospace\"><span style=\"font-weight: bold\"> Trainable params: </span><span style=\"color: #00af00; text-decoration-color: #00af00\">1,313,025</span> (5.01 MB)\n",
              "</pre>\n"
            ]
          },
          "metadata": {}
        },
        {
          "output_type": "display_data",
          "data": {
            "text/plain": [
              "\u001b[1m Non-trainable params: \u001b[0m\u001b[38;5;34m0\u001b[0m (0.00 B)\n"
            ],
            "text/html": [
              "<pre style=\"white-space:pre;overflow-x:auto;line-height:normal;font-family:Menlo,'DejaVu Sans Mono',consolas,'Courier New',monospace\"><span style=\"font-weight: bold\"> Non-trainable params: </span><span style=\"color: #00af00; text-decoration-color: #00af00\">0</span> (0.00 B)\n",
              "</pre>\n"
            ]
          },
          "metadata": {}
        },
        {
          "output_type": "display_data",
          "data": {
            "text/plain": [
              "\u001b[1m Optimizer params: \u001b[0m\u001b[38;5;34m2\u001b[0m (12.00 B)\n"
            ],
            "text/html": [
              "<pre style=\"white-space:pre;overflow-x:auto;line-height:normal;font-family:Menlo,'DejaVu Sans Mono',consolas,'Courier New',monospace\"><span style=\"font-weight: bold\"> Optimizer params: </span><span style=\"color: #00af00; text-decoration-color: #00af00\">2</span> (12.00 B)\n",
              "</pre>\n"
            ]
          },
          "metadata": {}
        }
      ]
    },
    {
      "cell_type": "markdown",
      "source": [
        "### Get Model Weights\n",
        "\n",
        "This cell retrieves and displays the weights of the loaded neural network model. This can be useful for inspecting the learned parameters of the model's layers."
      ],
      "metadata": {
        "id": "U4-PAHB_AHUZ"
      }
    },
    {
      "cell_type": "code",
      "source": [
        "model.get_weights()"
      ],
      "metadata": {
        "colab": {
          "base_uri": "https://localhost:8080/"
        },
        "id": "a8jL_CkW-Mh-",
        "outputId": "4e51c0f3-8b54-4a4c-edbc-b87b0c5d5001"
      },
      "execution_count": 4,
      "outputs": [
        {
          "output_type": "execute_result",
          "data": {
            "text/plain": [
              "[array([[ 0.05028966, -0.1861247 , -0.05452558, ...,  0.31735402,\n",
              "          0.21090958, -0.01938041],\n",
              "        [-0.0536069 ,  0.01111713, -0.02867513, ...,  0.08603007,\n",
              "          0.06909772,  0.00401321],\n",
              "        [-0.14356074, -0.03735369, -0.08284879, ...,  0.05917687,\n",
              "          0.04079722, -0.04353869],\n",
              "        ...,\n",
              "        [ 0.14877355, -0.112506  , -0.00847652, ..., -0.08714756,\n",
              "          0.04280232,  0.2113173 ],\n",
              "        [-0.07950864,  0.04092108,  0.10891854, ...,  0.17983969,\n",
              "         -0.11226679, -0.09614478],\n",
              "        [ 0.10394979, -0.01771381, -0.01717737, ..., -0.09432007,\n",
              "          0.04166912,  0.16322432]], dtype=float32),\n",
              " array([[-0.03470432, -0.07551817, -0.00346744, ...,  0.09992695,\n",
              "          0.01936855, -0.04661546],\n",
              "        [-0.0741649 ,  0.13129607,  0.07566912, ..., -0.06587796,\n",
              "         -0.11949625,  0.04915369],\n",
              "        [ 0.13832963, -0.03371787, -0.01118063, ..., -0.04840203,\n",
              "         -0.11319797,  0.10217395],\n",
              "        ...,\n",
              "        [ 0.16652927,  0.01148572, -0.14788672, ..., -0.17349584,\n",
              "          0.03690715, -0.02262555],\n",
              "        [-0.08156289, -0.11593162, -0.18675458, ..., -0.11834994,\n",
              "         -0.03608578,  0.0530647 ],\n",
              "        [-0.02919647,  0.06501693, -0.11590159, ..., -0.09487487,\n",
              "         -0.06363311,  0.01776502]], dtype=float32),\n",
              " array([[ 0.13849436,  0.10685779,  0.10810952, ...,  0.0207352 ,\n",
              "          0.00130489,  0.01837059],\n",
              "        [-0.12550868,  0.00409467,  0.05564042, ..., -0.15368715,\n",
              "          0.07676379, -0.0306079 ],\n",
              "        [-0.21824305,  0.09764467,  0.0684005 , ..., -0.04759136,\n",
              "         -0.02545574, -0.00965657],\n",
              "        ...,\n",
              "        [-0.24830796,  0.02567487,  0.16512899, ...,  0.04169818,\n",
              "          0.04030219, -0.08155558],\n",
              "        [-0.15162678, -0.15234059, -0.02478105, ...,  0.0711545 ,\n",
              "          0.00613951,  0.0150716 ],\n",
              "        [-0.01680759,  0.05943381, -0.14547163, ..., -0.01486573,\n",
              "          0.01961966,  0.22370186]], dtype=float32),\n",
              " array([-0.02026812,  0.02805314, -0.01583158,  0.01995319, -0.00226238,\n",
              "        -0.01247071,  0.01801529,  0.00956849, -0.01127118,  0.03833913,\n",
              "         0.04147312,  0.03024313, -0.02945507, -0.02754939, -0.01932703,\n",
              "        -0.01433825, -0.02799471, -0.02078054, -0.00192703, -0.02793487,\n",
              "         0.00565034, -0.02267976,  0.00097398, -0.02722093,  0.0157742 ,\n",
              "         0.04639211, -0.02459479, -0.01215222, -0.02236541, -0.00226194,\n",
              "         0.0014361 , -0.00856321,  0.00327801,  0.03160996, -0.02824298,\n",
              "        -0.02073251,  0.03420577,  0.02718861,  0.03328823,  0.03341581,\n",
              "        -0.01258526, -0.0097943 ,  0.03061186, -0.04280248,  0.03335076,\n",
              "        -0.05036453,  0.003095  , -0.0428369 , -0.03037171, -0.0124957 ,\n",
              "         0.01373866, -0.00253115,  0.00703669, -0.0088008 , -0.03005083,\n",
              "        -0.00817274,  0.02653314, -0.00469429, -0.01498113,  0.02880851,\n",
              "        -0.0275137 , -0.0133988 ,  0.01942037,  0.01712625,  0.02097917,\n",
              "         0.03916683, -0.02480331, -0.03448857, -0.01148487, -0.01655634,\n",
              "        -0.01441483, -0.02945339, -0.00841475, -0.00398083, -0.02892804,\n",
              "         0.03239561, -0.01070398, -0.01217228, -0.03277929, -0.01019261,\n",
              "        -0.02289588, -0.04117512, -0.0263707 , -0.0352483 , -0.01751013,\n",
              "        -0.03434557,  0.02632985, -0.04727335, -0.0211843 ,  0.03299256,\n",
              "        -0.01369426, -0.01865331, -0.01491281, -0.03545067, -0.05050152,\n",
              "         0.04118807,  0.02349764,  0.01787756, -0.00955266, -0.01415334,\n",
              "        -0.01026606,  0.00121105, -0.0262978 , -0.01945937, -0.01821244,\n",
              "        -0.01599678, -0.01811183,  0.00519018,  0.00019808, -0.01223174,\n",
              "         0.01325448, -0.02375706,  0.00907782,  0.03328287, -0.02942813,\n",
              "        -0.01779059,  0.02572194,  0.04441767,  0.00954909, -0.02250873,\n",
              "         0.0129775 , -0.00999632,  0.02020802,  0.00825446,  0.02674617,\n",
              "        -0.01438619,  0.03428147, -0.03685668], dtype=float32),\n",
              " array([[-2.40236297e-01],\n",
              "        [-1.48157358e-01],\n",
              "        [-1.52876318e-01],\n",
              "        [-1.18796967e-01],\n",
              "        [ 2.39394531e-01],\n",
              "        [-1.72330171e-01],\n",
              "        [-2.46418845e-02],\n",
              "        [-3.88262384e-02],\n",
              "        [ 1.27651721e-01],\n",
              "        [-5.39693013e-02],\n",
              "        [-1.44494966e-01],\n",
              "        [-8.43864307e-02],\n",
              "        [ 9.62213725e-02],\n",
              "        [ 2.01099947e-01],\n",
              "        [ 2.47153431e-01],\n",
              "        [ 2.87163466e-01],\n",
              "        [-1.10085934e-01],\n",
              "        [ 1.15611322e-01],\n",
              "        [ 2.41861224e-01],\n",
              "        [-1.78036183e-01],\n",
              "        [ 2.02713609e-01],\n",
              "        [ 3.82038318e-02],\n",
              "        [ 6.52552024e-02],\n",
              "        [ 1.54496700e-01],\n",
              "        [ 2.58639276e-01],\n",
              "        [ 1.62676483e-01],\n",
              "        [ 3.91749255e-02],\n",
              "        [ 2.02282593e-01],\n",
              "        [ 2.20623389e-01],\n",
              "        [ 1.27840281e-01],\n",
              "        [-1.30255237e-01],\n",
              "        [ 2.43246034e-01],\n",
              "        [ 2.63085097e-01],\n",
              "        [ 2.14023553e-02],\n",
              "        [-1.09256165e-04],\n",
              "        [ 1.02719367e-01],\n",
              "        [-2.03517415e-02],\n",
              "        [-1.07872628e-01],\n",
              "        [-5.28314635e-02],\n",
              "        [ 8.90640393e-02],\n",
              "        [ 9.00928769e-03],\n",
              "        [ 1.28951952e-01],\n",
              "        [-2.10215956e-01],\n",
              "        [-1.71554983e-02],\n",
              "        [ 1.71470940e-02],\n",
              "        [-1.04157686e-01],\n",
              "        [ 2.01587342e-02],\n",
              "        [-9.76013690e-02],\n",
              "        [ 4.59098332e-02],\n",
              "        [ 1.50403723e-01],\n",
              "        [ 4.46664281e-02],\n",
              "        [-1.92535251e-01],\n",
              "        [ 2.09054083e-01],\n",
              "        [-1.32819533e-01],\n",
              "        [ 2.22223103e-01],\n",
              "        [-1.19728193e-01],\n",
              "        [-1.53369173e-01],\n",
              "        [ 1.63695723e-01],\n",
              "        [-2.78199874e-02],\n",
              "        [ 1.54065818e-01],\n",
              "        [-1.96152344e-01],\n",
              "        [ 1.82458684e-01],\n",
              "        [ 3.02146405e-01],\n",
              "        [ 1.17983222e-01],\n",
              "        [ 3.96354795e-02],\n",
              "        [ 1.77187338e-01],\n",
              "        [ 2.13392541e-01],\n",
              "        [ 2.62484908e-01],\n",
              "        [-5.05337045e-02],\n",
              "        [ 5.74430078e-02],\n",
              "        [-1.90224737e-01],\n",
              "        [ 8.29917938e-03],\n",
              "        [ 1.98046699e-01],\n",
              "        [ 1.81176499e-01],\n",
              "        [-9.28203464e-02],\n",
              "        [-1.01322755e-01],\n",
              "        [ 5.03076985e-03],\n",
              "        [-6.33294806e-02],\n",
              "        [ 1.26539066e-01],\n",
              "        [ 9.66879055e-02],\n",
              "        [ 3.53837945e-02],\n",
              "        [ 1.71515509e-01],\n",
              "        [ 1.57882407e-01],\n",
              "        [ 2.12712198e-01],\n",
              "        [ 2.83002317e-01],\n",
              "        [-3.20663266e-02],\n",
              "        [-1.10722095e-01],\n",
              "        [ 9.92635936e-02],\n",
              "        [ 2.44867429e-01],\n",
              "        [ 1.88441142e-01],\n",
              "        [-1.55382484e-01],\n",
              "        [ 1.60802200e-01],\n",
              "        [-1.22665338e-01],\n",
              "        [-1.02998121e-02],\n",
              "        [ 2.14090873e-03],\n",
              "        [-3.99660319e-02],\n",
              "        [-1.86442375e-01],\n",
              "        [ 2.55693018e-01],\n",
              "        [ 1.55195430e-01],\n",
              "        [ 2.61586279e-01],\n",
              "        [ 8.40735063e-02],\n",
              "        [-7.22589642e-02],\n",
              "        [-9.81799327e-03],\n",
              "        [ 2.33736098e-01],\n",
              "        [-9.77677479e-02],\n",
              "        [-2.18232572e-02],\n",
              "        [-1.35772988e-01],\n",
              "        [ 2.04472497e-01],\n",
              "        [ 2.06274882e-01],\n",
              "        [ 1.58296302e-02],\n",
              "        [ 1.15931833e+00],\n",
              "        [ 1.99253596e-02],\n",
              "        [-1.25050277e-01],\n",
              "        [ 3.62893566e-03],\n",
              "        [-1.13121696e-01],\n",
              "        [ 1.59594446e-01],\n",
              "        [ 6.29987866e-02],\n",
              "        [-1.42505094e-01],\n",
              "        [ 2.17273402e+00],\n",
              "        [ 1.56575054e-01],\n",
              "        [ 4.10175681e-01],\n",
              "        [ 6.52012229e-02],\n",
              "        [-8.76536220e-02],\n",
              "        [ 1.09322593e-01],\n",
              "        [-1.02066018e-01],\n",
              "        [ 2.19764665e-01],\n",
              "        [ 9.66634974e-02],\n",
              "        [-1.33350538e-02]], dtype=float32),\n",
              " array([1.8759276], dtype=float32)]"
            ]
          },
          "metadata": {},
          "execution_count": 4
        }
      ]
    },
    {
      "cell_type": "code",
      "source": [
        "# Step 2: Helper Functions\n",
        "# Function to decode reviews\n",
        "def decode_review(encoded_review):\n",
        "    return ' '.join([reverse_word_index.get(i - 3, '?') for i in encoded_review])\n",
        "\n",
        "# Function to preprocess user input\n",
        "def preprocess_text(text):\n",
        "    words = text.lower().split()\n",
        "    encoded_review = [word_index.get(word, 2) + 3 for word in words]\n",
        "    padded_review = sequence.pad_sequences([encoded_review], maxlen=500)\n",
        "    return padded_review"
      ],
      "metadata": {
        "id": "Iynmr1Se_KOZ"
      },
      "execution_count": 8,
      "outputs": []
    },
    {
      "cell_type": "markdown",
      "source": [
        "### Prediction Function\n",
        "\n",
        "This cell defines the `predict_sentiment` function, which takes a movie review as input, preprocesses it using the `preprocess_text` function, and then uses the loaded model to predict the sentiment (Positive or Negative) along with the prediction score."
      ],
      "metadata": {
        "id": "CqoS9YoK_poS"
      }
    },
    {
      "cell_type": "code",
      "source": [
        "### Prediction  function\n",
        "\n",
        "def predict_sentiment(review):\n",
        "    preprocessed_input=preprocess_text(review)\n",
        "\n",
        "    prediction=model.predict(preprocessed_input)\n",
        "\n",
        "    sentiment = 'Positive' if prediction[0][0] > 0.5 else 'Negative'\n",
        "\n",
        "    return sentiment, prediction[0][0]\n",
        "\n"
      ],
      "metadata": {
        "id": "N9nTSoSF-0Uc"
      },
      "execution_count": 9,
      "outputs": []
    },
    {
      "cell_type": "markdown",
      "source": [
        "### User Input and Prediction\n",
        "\n",
        "This cell demonstrates how to use the `predict_sentiment` function with an example movie review. It calls the function with the example review and then prints the original review, the predicted sentiment, and the prediction score."
      ],
      "metadata": {
        "id": "Wvno-ta1_lyv"
      }
    },
    {
      "cell_type": "code",
      "source": [
        "# Step 4: User Input and Prediction\n",
        "# Example review for prediction\n",
        "example_review = \"This movie was fantastic! The acting was great and the plot was thrilling.\"\n",
        "\n",
        "sentiment,score=predict_sentiment(example_review)\n",
        "\n",
        "print(f'Review: {example_review}')\n",
        "print(f'Sentiment: {sentiment}')\n",
        "print(f'Prediction Score: {score}')"
      ],
      "metadata": {
        "colab": {
          "base_uri": "https://localhost:8080/"
        },
        "id": "owzfFTxs-3el",
        "outputId": "96695782-c03e-442d-ad2e-90093d59668b"
      },
      "execution_count": 10,
      "outputs": [
        {
          "output_type": "stream",
          "name": "stdout",
          "text": [
            "\u001b[1m1/1\u001b[0m \u001b[32m━━━━━━━━━━━━━━━━━━━━\u001b[0m\u001b[37m\u001b[0m \u001b[1m1s\u001b[0m 650ms/step\n",
            "Review: This movie was fantastic! The acting was great and the plot was thrilling.\n",
            "Sentiment: Positive\n",
            "Prediction Score: 0.6390682458877563\n"
          ]
        }
      ]
    }
  ]
}